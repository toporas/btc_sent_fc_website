{
 "cells": [
  {
   "cell_type": "code",
   "execution_count": 13,
   "id": "7b6de8ea",
   "metadata": {},
   "outputs": [],
   "source": [
    "import gcsfs\n",
    "import pandas as pd\n",
    "from wordcloud import wordcloud, STOPWORDS"
   ]
  },
  {
   "cell_type": "code",
   "execution_count": 7,
   "id": "ee793c86",
   "metadata": {},
   "outputs": [
    {
     "ename": "FileNotFoundError",
     "evalue": "[Errno 2] No such file or directory: 'gs://wagon-data-750-btc-sent-fc/website_data/word_text_2021_11_22.txt'",
     "output_type": "error",
     "traceback": [
      "\u001b[0;31m---------------------------------------------------------------------------\u001b[0m",
      "\u001b[0;31mFileNotFoundError\u001b[0m                         Traceback (most recent call last)",
      "\u001b[0;32m/tmp/ipykernel_3940/2664566242.py\u001b[0m in \u001b[0;36m<module>\u001b[0;34m\u001b[0m\n\u001b[0;32m----> 1\u001b[0;31m \u001b[0mopen\u001b[0m\u001b[0;34m(\u001b[0m\u001b[0;34m'gs://wagon-data-750-btc-sent-fc/website_data/word_text_2021_11_22.txt'\u001b[0m\u001b[0;34m,\u001b[0m\u001b[0;34m'r'\u001b[0m\u001b[0;34m)\u001b[0m\u001b[0;34m\u001b[0m\u001b[0;34m\u001b[0m\u001b[0m\n\u001b[0m",
      "\u001b[0;31mFileNotFoundError\u001b[0m: [Errno 2] No such file or directory: 'gs://wagon-data-750-btc-sent-fc/website_data/word_text_2021_11_22.txt'"
     ]
    }
   ],
   "source": [
    "open('gs://wagon-data-750-btc-sent-fc/website_data/word_text_2021_11_22.txt','r')"
   ]
  },
  {
   "cell_type": "code",
   "execution_count": 2,
   "id": "817d457a",
   "metadata": {},
   "outputs": [],
   "source": [
    "fs = gcsfs.GCSFileSystem()\n",
    "with fs.open('wagon-data-750-btc-sent-fc/website_data/word_text_2021_11_22.txt') as f:\n",
    "    text = f.readlines()"
   ]
  },
  {
   "cell_type": "code",
   "execution_count": 18,
   "id": "a41478d6",
   "metadata": {},
   "outputs": [
    {
     "data": {
      "text/plain": [
       "set"
      ]
     },
     "execution_count": 18,
     "metadata": {},
     "output_type": "execute_result"
    }
   ],
   "source": [
    "type(STOPWORDS)"
   ]
  },
  {
   "cell_type": "code",
   "execution_count": 19,
   "id": "b9145a52",
   "metadata": {},
   "outputs": [],
   "source": [
    "STOPWORDS.add('rt')"
   ]
  },
  {
   "cell_type": "code",
   "execution_count": 20,
   "id": "12370de5",
   "metadata": {},
   "outputs": [
    {
     "data": {
      "text/plain": [
       "{'a',\n",
       " 'about',\n",
       " 'above',\n",
       " 'after',\n",
       " 'again',\n",
       " 'against',\n",
       " 'all',\n",
       " 'also',\n",
       " 'am',\n",
       " 'an',\n",
       " 'and',\n",
       " 'any',\n",
       " 'are',\n",
       " \"aren't\",\n",
       " 'as',\n",
       " 'at',\n",
       " 'be',\n",
       " 'because',\n",
       " 'been',\n",
       " 'before',\n",
       " 'being',\n",
       " 'below',\n",
       " 'between',\n",
       " 'both',\n",
       " 'but',\n",
       " 'by',\n",
       " 'can',\n",
       " \"can't\",\n",
       " 'cannot',\n",
       " 'com',\n",
       " 'could',\n",
       " \"couldn't\",\n",
       " 'did',\n",
       " \"didn't\",\n",
       " 'do',\n",
       " 'does',\n",
       " \"doesn't\",\n",
       " 'doing',\n",
       " \"don't\",\n",
       " 'down',\n",
       " 'during',\n",
       " 'each',\n",
       " 'else',\n",
       " 'ever',\n",
       " 'few',\n",
       " 'for',\n",
       " 'from',\n",
       " 'further',\n",
       " 'get',\n",
       " 'had',\n",
       " \"hadn't\",\n",
       " 'has',\n",
       " \"hasn't\",\n",
       " 'have',\n",
       " \"haven't\",\n",
       " 'having',\n",
       " 'he',\n",
       " \"he'd\",\n",
       " \"he'll\",\n",
       " \"he's\",\n",
       " 'hence',\n",
       " 'her',\n",
       " 'here',\n",
       " \"here's\",\n",
       " 'hers',\n",
       " 'herself',\n",
       " 'him',\n",
       " 'himself',\n",
       " 'his',\n",
       " 'how',\n",
       " \"how's\",\n",
       " 'however',\n",
       " 'http',\n",
       " 'i',\n",
       " \"i'd\",\n",
       " \"i'll\",\n",
       " \"i'm\",\n",
       " \"i've\",\n",
       " 'if',\n",
       " 'in',\n",
       " 'into',\n",
       " 'is',\n",
       " \"isn't\",\n",
       " 'it',\n",
       " \"it's\",\n",
       " 'its',\n",
       " 'itself',\n",
       " 'just',\n",
       " 'k',\n",
       " \"let's\",\n",
       " 'like',\n",
       " 'me',\n",
       " 'more',\n",
       " 'most',\n",
       " \"mustn't\",\n",
       " 'my',\n",
       " 'myself',\n",
       " 'no',\n",
       " 'nor',\n",
       " 'not',\n",
       " 'of',\n",
       " 'off',\n",
       " 'on',\n",
       " 'once',\n",
       " 'only',\n",
       " 'or',\n",
       " 'other',\n",
       " 'otherwise',\n",
       " 'ought',\n",
       " 'our',\n",
       " 'ours',\n",
       " 'ourselves',\n",
       " 'out',\n",
       " 'over',\n",
       " 'own',\n",
       " 'r',\n",
       " 'rt',\n",
       " 'same',\n",
       " 'shall',\n",
       " \"shan't\",\n",
       " 'she',\n",
       " \"she'd\",\n",
       " \"she'll\",\n",
       " \"she's\",\n",
       " 'should',\n",
       " \"shouldn't\",\n",
       " 'since',\n",
       " 'so',\n",
       " 'some',\n",
       " 'such',\n",
       " 'than',\n",
       " 'that',\n",
       " \"that's\",\n",
       " 'the',\n",
       " 'their',\n",
       " 'theirs',\n",
       " 'them',\n",
       " 'themselves',\n",
       " 'then',\n",
       " 'there',\n",
       " \"there's\",\n",
       " 'therefore',\n",
       " 'these',\n",
       " 'they',\n",
       " \"they'd\",\n",
       " \"they'll\",\n",
       " \"they're\",\n",
       " \"they've\",\n",
       " 'this',\n",
       " 'those',\n",
       " 'through',\n",
       " 'to',\n",
       " 'too',\n",
       " 'under',\n",
       " 'until',\n",
       " 'up',\n",
       " 'very',\n",
       " 'was',\n",
       " \"wasn't\",\n",
       " 'we',\n",
       " \"we'd\",\n",
       " \"we'll\",\n",
       " \"we're\",\n",
       " \"we've\",\n",
       " 'were',\n",
       " \"weren't\",\n",
       " 'what',\n",
       " \"what's\",\n",
       " 'when',\n",
       " \"when's\",\n",
       " 'where',\n",
       " \"where's\",\n",
       " 'which',\n",
       " 'while',\n",
       " 'who',\n",
       " \"who's\",\n",
       " 'whom',\n",
       " 'why',\n",
       " \"why's\",\n",
       " 'with',\n",
       " \"won't\",\n",
       " 'would',\n",
       " \"wouldn't\",\n",
       " 'www',\n",
       " 'you',\n",
       " \"you'd\",\n",
       " \"you'll\",\n",
       " \"you're\",\n",
       " \"you've\",\n",
       " 'your',\n",
       " 'yours',\n",
       " 'yourself',\n",
       " 'yourselves'}"
      ]
     },
     "execution_count": 20,
     "metadata": {},
     "output_type": "execute_result"
    }
   ],
   "source": [
    "STOPWORDS"
   ]
  },
  {
   "cell_type": "code",
   "execution_count": 12,
   "id": "c85dea02",
   "metadata": {},
   "outputs": [
    {
     "data": {
      "text/plain": [
       "'Jasmy, going, live, in, 5, minutes, on, binance,, It, is, funny, that, not, crypto.com, has, the, most, traded, volume, for, CRO,, Why, does, Eth, itself, need, to, moon, even, if, the, Ethereum, network, takes, over, all, if, finance?,, Daily, Discussion, -, November, 22,, 2021, (GMT+0),, The, U.S., dollar, is, a, shitcoin!!!,, How, to, wrap, eth, for, btc,, Best, blockchain, for, high, speed, and, low, transaction, costs?,, Brand, new, and, ready, to, explode,, Why, Moons, will, be, massive, one, day,, The, Future, Potential, of, Moons,, The, Future, Potential, of, Moons,, The, U.S., dollar, is, a, shitcoin!!!,, #BITCOINFACT, ✅,, Session, messenger, and, OXEN,, What, decentralization, can, offer, Web, 3.0, and, social, media, |, Part, 1,, Getting, involved, in, the, community,, Fund, Managers, Increasingly, Prefer, Bitcoin, Over, Gold, -, Say, It\\'s, a, Better, Store, of, Value,, Crypto, “Volatility, Is, The, Price, Of, Opportunity,”, Says, CoinShares’, Meltem, Demirors,, Luna, Dolphins, on, Terra, Luna,, Billary, is, from, the, future, man😂😂,, Crypto, Debit, Cards:, What, Are, They,, How, They, Work, &amp;, Benefits,, Remember, peeps,, this, could, be, the, calm, before, the, storm.,, Ethereum, apps, can, now, be, ported, to, Nervos, (CKB),, one, step, closer, to, universal, interoperability!,, After, all, those, kyc, issues,, finally, got, my, first, Crypto!!, Thank, you,, cold, dude, and, gifter,, Will, Sandbox, or, Decentraland, be, more, like, OASIS,, Free, City, or, Free, Life?, Which, coin, you, buying?,, Jasmy, going, live, in, 5, minutes, on, binance,, It, is, funny, that, not, crypto.com, has, the, most, traded, volume, for, CRO,, Why, does, Eth, itself, need, to, moon, even, if, the, Ethereum, network, takes, over, all, if, finance?,, Daily, Discussion, -, November, 22,, 2021, (GMT+0),, The, U.S., dollar, is, a, shitcoin!!!,, How, to, wrap, eth, for, btc,, Best, blockchain, for, high, speed, and, low, transaction, costs?,, Brand, new, and, ready, to, explode,, Why, Moons, will, be, massive, one, day,, The, Future, Potential, of, Moons,, The, Future, Potential, of, Moons,, The, U.S., dollar, is, a, shitcoin!!!,, #BITCOINFACT, ✅,, Session, messenger, and, OXEN,, What, decentralization, can, offer, Web, 3.0, and, social, media, |, Part, 1,, Getting, involved, in, the, community,, Fund, Managers, Increasingly, Prefer, Bitcoin, Over, Gold, -, Say, It\\'s, a, Better, Store, of, Value,, Crypto, “Volatility, Is, The, Price, Of, Opportunity,”, Says, CoinShares’, Meltem, Demirors,, Luna, Dolphins, on, Terra, Luna,, Billary, is, from, the, future, man😂😂,, Crypto, Debit, Cards:, What, Are, They,, How, They, Work, &amp;, Benefits,, Remember, peeps,, this, could, be, the, calm, before, the, storm.,, Ethereum, apps, can, now, be, ported, to, Nervos, (CKB),, one, step, closer, to, universal, interoperability!,, After, all, those, kyc, issues,, finally, got, my, first, Crypto!!, Thank, you,, cold, dude, and, gifter,, Will, Sandbox, or, Decentraland, be, more, like, OASIS,, Free, City, or, Free, Life?, Which, coin, you, buying?cw, inflation, stomach, expansionfor, sssssusssy, loon, battle, ,, staying, long, and, hedged, worked, for, me, since, the, beginning, of, this, insane, money, printing, spree, at, this, point, id, take, some, of, the, generational, longs, off, the, table, and, hedge, the, rest, binary, events, inflationdeflation, next, fed, chair, etc, simply, ask, for, risk, adjustments, ,, rt, le, crous, vraiment, des, batards, pour, pas, quils, aient, verser, les, 100, de, prime, inflation, faut, remplir, un, questionnaire, via,, i, put, a, dime, in, my, penny, loafers, and, my, dad, looked, down, and, said, wow, inflation,, rt, wowwe, got, our, aaa, rating, backthis, must, have, gob, smacked, otooleall, his, screaming, about, inflation, and, the, debt,, rt, new, cbs, news, poll, finds, that, 67, of, americans, disapprove, of, joe, bidens, handling, of, inflation, ,, rt, adjusted, for, inflation, the, first, rocky, movie, had, a, budget, of, 43, million, with, a, gross, of, over, 1, billion, imagine, that, h,, rt, cancel, medicare, payments, for, anyone, whos, income, is, less, than, 50k, inflation, is, killing, our, seniors, then, increase,, economists, who, didnt, see, inflation, coming, are, seriously, ngmi,, inflation, is, a, tax,, rt, dismissing, inflation, while, cutting, taxes, for, the, wealthy, is, not, a, winning, strategy, for, democrats, writes,, rt, new, cbs, news, poll, finds, that, 67, of, americans, disapprove, of, joe, bidens, handling, of, inflation, ,, rt, americans, overwhelmingly, disapprove, of, president, joe, bidens, handling, of, the, inflation, crisis, 67, according, to, the, results,, rt, imagine, the, keynesian, and, mmt, economists, trying, to, claim, no, one, saw, the, inflation, coming, they, lied, you, into, inflation, n,, rt, president, trump, discussesbotched, afghanistan, withdrawal, southern, border, policies, and, inflation, on, life, liberty, amp, levin,, rt, i, ordered, a, large, pizza, and, 12, wings, from, ledos, for, the, fight, last, night, from, that, shit, was, 60, inflation,, rt, one, year, of, onepartyrule, has, given, usthe, highest, inflation, in, 30, yearsskyhigh, prices, at, the, pumpa, justice, depa,, rt, le, crous, vraiment, des, batards, pour, pas, quils, aient, verser, les, 100, de, prime, inflation, faut, remplir, un, questionnaire, via,, 2, years, ago, i, accidentally, watched, avideo, of, sonic, inflation, porn, on, reddit, and, now, i, have, an, insatiable, fetish, that, keeps, me, up, at, night, and, i, havent, orgasmed, properly, since,, rt, indemnit, inflation, 100, tudiants, noubliez, pas, de, rpondre, au, mail, du, lescrous, pour, pouvoir, obtenir, l,, rt, question, have, you, tried, using, the, inflation, calculator, bank, of,, rt, scott, morrisons, latest, scare, campaign, claims, interest, rates, and, inflation, will, be, worse, under, labor, than, the, coalitio,, i, guess, this, is, the, inflation, the, unseen, tax, of, this, crap, governmentand, printing, more, to, devalue, our, savings, and, 401k, further,, rt, ignore, the, rightwing, spin, about, inflation, a, key, reason, inflation, is, up, and, gas, prices, are, high, is, because, saudi, arabia, is, wi,, democrats, have, no, inflationfighting, plan, so, theyre, just, pretending, instead, ,, rt, strange, that, hardly, anyone, in, power, yells, about, inflation, for, pentagon, spending, even, though, its, 2x, the, cost, of, bidens,, rt, boom, president, biden, attacks, inflation, crisis, by, freeing, up, gridlocked, ports, in, los, angeles, ceo, of, walmart, i, woul,, rt, inflation, may, be, transitory, but, this, man, isnt, ,, rt, almost, no, one, saw, inflation, comingmeanwhile, the, internet, all, last, year, ,, rt, boom, president, biden, attacks, inflation, crisis, by, freeing, up, gridlocked, ports, in, los, angeles, ceo, of, walmart, i, woul,, rt, those, who, blame, us, inflation, on, fiscal, stimulus, the, biden, administration, or, the, federal, reserve, may, need, to, explain,, rt, if, we, hadnt, passed, the, american, rescue, plan, we, very, likely, would, have, still, faced, high, inflation, and, the, american, peop,, rt, whew, those, crude, oil, prices, down, wheres, all, my, inflation, reporters, at,, inflation, making, me, wanna, sell, drugs,, rt, boom, president, biden, attacks, inflation, crisis, by, freeing, up, gridlocked, ports, in, los, angeles, ceo, of, walmart, i, woul,, rt, boom, president, biden, attacks, inflation, crisis, by, freeing, up, gridlocked, ports, in, los, angeles, ceo, of, walmart, i, woul,, after, bidenxi, summit, trade, deal, in, works, to, magically, lower, inflation, via, ,, sprott, means, business, sput, increased, to, 35bn, and, with, inflation, in, the, uranium, mining, sector, 80, is, the, new, 60, uun, uu, assymetric, riskreward, ,, rt, us, treasury, secretary, we, must, be, concerned, about, inflationbitcoin, fixes, this, ,, so, what, are, you, doing, to, address, this, give, yourself, another, tax, break, that, seems, to, be, your, goto, inflation, is, currently, worldwide, so, what, is, your, plan, or, is, tweeting, all, you, do,, rt, german, inflation, may, spike, even, higher, than, previously, forecast, this, month, with, a, rate, just, under, 6, according, to, the, bu,, what, to, do, as, inflation, cuts, black, friday, deals, ,, rt, nbc, suggested, not, having, thanksgiving, turkey, this, year, to, deal, with, inflationwhich, inlines, with, bidens, build, better, b,, rt, boom, president, biden, attacks, inflation, crisis, by, freeing, up, gridlocked, ports, in, los, angeles, ceo, of, walmart, i, woul,, rt, inflation, is, skyrocketingamericans, know, exactly, who, to, blame, for, why, they, are, paying, more, for, almost, everything,, love, to, not, account, for, inflation,, rt, boom, president, biden, attacks, inflation, crisis, by, freeing, up, gridlocked, ports, in, los, angeles, ceo, of, walmart, i, woul,, rt, hyper, cum, inflation, for, i, had, a, lot, of, fun, drawing, so, much, excessive, cum, ,, rt, are, current, bouts, of, unemployment, and, inflation, serious, fundamental, problems, or, simply, postpandemic, anomalies, presented, b,, rt, us, treasury, secretary, we, must, be, concerned, about, inflationbitcoin, fixes, this, ,, rt, hyper, cum, inflation, for, i, had, a, lot, of, fun, drawing, so, much, excessive, cum, ,, trumps, failed, tarriffs, and, his, failed, amp, lying, covid, response, started, the, inflation, remember, the, 10s, of, billions, paid, to, our, farmers, ,, rt, all, ive, learned, from, the, medias, coverage, of, the, inflation, crisis, is, that, the, average, american, enjoys, drinking, absurd,, powerplay, low, hanging, fruit, topics, compared, to, afghanistan, bc, floods, pandemic, homeless, inflation, etc,, things, first, affected, by, inflation, gas, groceries, application, of, the, word, conservative,, rt, biden, reconduit, jerome, powell, la, tte, de, la, banque, centrale, amricainele, mec, fait, exploser, linflation, aux, us, ave,, rt, boom, president, biden, attacks, inflation, crisis, by, freeing, up, gridlocked, ports, in, los, angeles, ceo, of, walmart, i, woul,, joe, bidens, energy, and, economic, policies, have, caused, rapid, inflation, which, is, hurting, our, nationif, you, voted, for, joe, biden, this, is, on, you, too, ,, tampabay, we, have, inflation, because, of, this, guymr, clueless, ,, due, to, inflation, the, band, is, now, sum, 53,, rt, due, to, inflation, jayz, now, has, 11269, problems,, dark, yeah, like, what, inflation, tells, me, hes, not, his, bill, shows, me, hes, not, do, we, need, to, send, billions, to, foreign, countries, why, do, we, need, to, support, russian, oil, why, do, you, believe, in, personal, responsibility, doubtful,, rt, boom, president, biden, attacks, inflation, crisis, by, freeing, up, gridlocked, ports, in, los, angeles, ceo, of, walmart, i, woul35, [F4M], #Chester, -, Cute, creamypie, dump, seeks, longterm, commitment, with, a, dom,, After, AMC, blows, the, US, stock, market, will, never, see, a, single, dollar, from, me,, I\\'m, at, this, point, very, tired, of, trading, against, algorithms.,, DogeBONK, -, Buy, The, Dip,, The, Anatomy, of, a, Gamma, Squeeze,, The, rigging, at, the, very, core, of, the, gold, market, is, now, officially, confirmed,, Why, does, Eth, itself, need, to, moon, even, if, the, Ethereum, network, takes, over, all, if, finance?,, What, has, changed, with, the, reappointment, of, Powell, as, FED, chief, ?, Nothing, ,, but, Gold, price, has, been, smashed, by, 30, dollars, and, Silver, price, smashed, by, half, a, dollar, after, the, announcement, today.And, the, dollar, and, stock, market, have, popped, up., It, is, now, sure, that, Powell, will, push, inflation, above, 10%,, Will, only, Dick, be, fed?, yes, the, petgirls, i\\'m, looking, for,, Biden, renominates, Powell, as, Fed, chair,, The, U.S., dollar, is, a, shitcoin!!!,, Now, thats, a, dip!, Nearly, 100, million, lost, from, the, market, cap, as, people, get, cold, feet, and, panic, sell., If, you, were, waiting, for, a, time, to, buy,, it, is, now!,, Peru, takes, 12,000,000, silver, ounces/year, off, market,, [Business], -, Biden, Keeps, Powell, as, Fed, Chair,, Elevates, Brainard, to, Vice, Chair:, Live, Updates, |, NY, Times,, Uber, enters, booming, cannabis, market, with, orders, in, Ontario,, In, the, market, for, a, handbra,, God, complex, boss, denying, approved, time, off,, guys..., ALL, of, crypto, is, down, hard, right, now., this, is, an, opportunity, to, load, up, on, the, next, shining, star, when, the, whales, have, more, play, money, (next, bull, run),, I, intentionally, go, for, products, made, by, companies, with, poor, ethical, practices,, A, renaissance, painting, of, prisoner, sentenced, to, death, by, starvation,, under, King, Louis, XIV,, is, secretly, breast, fed, by, his, daughter,, who, was, permitted, to, visit, him.,, \"The, Reddit, Apes, are, pleased, that, Jay, Powell, is, sticking, around, at, the, Fed\", -, What, the, actual, fuck..., I, cant, believe, these, media, articles,, AITA, For, not, giving, my, dad, half, of, my, Casino, winnings?,, CURE, 💗, Charity, first,, token, second, 🧡, Audited, by, Certik, 💙, NASCAR, deal, secured, and, London, Underground, advert, campaign, in, motion..., 💚, Fully, doxxed, team, 🤍, Listed, on, CMC, and, CG, 💜, Join, today, !,, Plastic, Contract, Manufacturing, Market, Share,, Forecast, by, 2031,, UAV, Propulsion, System, Market, 2027, -, Scope,, Size,, Share,, Forecast,, DoberMoon, ($DMOON), |, Low, Market, cap, 120k, |, Already, Launched, !, |, x100, Potential|, Don\\'t, miss, this, |, Very, Early, !, |, 200, Holders, |,, 35, [F4M], #Chester, -, Cute, creamypie, dump, seeks, longterm, commitment, with, a, dom,, After, AMC, blows, the, US, stock, market, will, never, see, a, single, dollar, from, me,, I\\'m, at, this, point, very, tired, of, trading, against, algorithms.,, DogeBONK, -, Buy, The, Dip,, The, Anatomy, of, a, Gamma, Squeeze,, The, rigging, at, the, very, core, of, the, gold, market, is, now, officially, confirmed,, Why, does, Eth, itself, need, to, moon, even, if, the, Ethereum, network, takes, over, all, if, finance?,, What, has, changed, with, the, reappointment, of, Powell, as, FED, chief, ?, Nothing, ,, but, Gold, price, has, been, smashed, by, 30, dollars, and, Silver, price, smashed, by, half, a, dollar, after, the, announcement, today.And, the, dollar, and, stock, market, have, popped, up., It, is, now, sure, that, Powell, will, push, inflation, above, 10%,, Will, only, Dick, be, fed?, yes, the, petgirls, i\\'m, looking, for,, Biden, renominates, Powell, as, Fed, chair,, The, U.S., dollar, is, a, shitcoin!!!,, Now, thats, a, dip!, Nearly, 100, million, lost, from, the, market, cap, as, people, get, cold, feet, and, panic, sell., If, you, were, waiting, for, a, time, to, buy,, it, is, now!,, Peru, takes, 12,000,000, silver, ounces/year, off, market,, [Business], -, Biden, Keeps, Powell, as, Fed, Chair,, Elevates, Brainard, to, Vice, Chair:, Live, Updates, |, NY, Times,, Uber, enters, booming, cannabis, market, with, orders, in, Ontario,, In, the, market, for, a, handbra,, God, complex, boss, denying, approved, time, off,, guys..., ALL, of, crypto, is, down, hard, right, now., this, is, an, opportunity, to, load, up, on, the, next, shining, star, when, the, whales, have, more, play, money, (next, bull, run),, I, intentionally, go, for, products, made, by, companies, with, poor, ethical, practices,, A, renaissance, painting, of, prisoner, sentenced, to, death, by, starvation,, under, King, Louis, XIV,, is, secretly, breast, fed, by, his, daughter,, who, was, permitted, to, visit, him.,, \"The, Reddit, Apes, are, pleased, that, Jay, Powell, is, sticking, around, at, the, Fed\", -, What, the, actual, fuck..., I, cant, believe, these, media, articles,, AITA, For, not, giving, my, dad, half, of, my, Casino, winnings?,, CURE, 💗, Charity, first,, token, second, 🧡, Audited, by, Certik, 💙, NASCAR, deal, secured, and, London, Underground, advert, campaign, in, motion..., 💚, Fully, doxxed, team, 🤍, Listed, on, CMC, and, CG, 💜, Join, today, !,, Plastic, Contract, Manufacturing, Market, Share,, Forecast, by, 2031,, UAV, Propulsion, System, Market, 2027, -, Scope,, Size,, Share,, Forecast,, DoberMoon, ($DMOON), |, Low, Market, cap, 120k, |, Already, Launched, !, |, x100, Potential|, Don\\'t, miss, this, |, Very, Early, !, |, 200, Holders, |'"
      ]
     },
     "execution_count": 12,
     "metadata": {},
     "output_type": "execute_result"
    }
   ],
   "source": [
    "text[0].decode()"
   ]
  },
  {
   "cell_type": "code",
   "execution_count": null,
   "id": "4a54d808",
   "metadata": {},
   "outputs": [],
   "source": []
  }
 ],
 "metadata": {
  "kernelspec": {
   "display_name": "Python 3 (ipykernel)",
   "language": "python",
   "name": "python3"
  },
  "language_info": {
   "codemirror_mode": {
    "name": "ipython",
    "version": 3
   },
   "file_extension": ".py",
   "mimetype": "text/x-python",
   "name": "python",
   "nbconvert_exporter": "python",
   "pygments_lexer": "ipython3",
   "version": "3.8.12"
  },
  "toc": {
   "base_numbering": 1,
   "nav_menu": {},
   "number_sections": true,
   "sideBar": true,
   "skip_h1_title": false,
   "title_cell": "Table of Contents",
   "title_sidebar": "Contents",
   "toc_cell": false,
   "toc_position": {},
   "toc_section_display": true,
   "toc_window_display": false
  },
  "varInspector": {
   "cols": {
    "lenName": 16,
    "lenType": 16,
    "lenVar": 40
   },
   "kernels_config": {
    "python": {
     "delete_cmd_postfix": "",
     "delete_cmd_prefix": "del ",
     "library": "var_list.py",
     "varRefreshCmd": "print(var_dic_list())"
    },
    "r": {
     "delete_cmd_postfix": ") ",
     "delete_cmd_prefix": "rm(",
     "library": "var_list.r",
     "varRefreshCmd": "cat(var_dic_list()) "
    }
   },
   "types_to_exclude": [
    "module",
    "function",
    "builtin_function_or_method",
    "instance",
    "_Feature"
   ],
   "window_display": false
  }
 },
 "nbformat": 4,
 "nbformat_minor": 5
}
