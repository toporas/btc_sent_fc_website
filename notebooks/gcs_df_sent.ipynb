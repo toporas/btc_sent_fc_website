{
 "cells": [
  {
   "cell_type": "code",
   "execution_count": 1,
   "id": "6ed3069b",
   "metadata": {},
   "outputs": [
    {
     "data": {
      "text/html": [
       "<div>\n",
       "<style scoped>\n",
       "    .dataframe tbody tr th:only-of-type {\n",
       "        vertical-align: middle;\n",
       "    }\n",
       "\n",
       "    .dataframe tbody tr th {\n",
       "        vertical-align: top;\n",
       "    }\n",
       "\n",
       "    .dataframe thead th {\n",
       "        text-align: right;\n",
       "    }\n",
       "</style>\n",
       "<table border=\"1\" class=\"dataframe\">\n",
       "  <thead>\n",
       "    <tr style=\"text-align: right;\">\n",
       "      <th></th>\n",
       "      <th>n-transactions-per-block</th>\n",
       "      <th>difficulty</th>\n",
       "      <th>utxo-count</th>\n",
       "      <th>mvrv</th>\n",
       "      <th>nvt</th>\n",
       "      <th>avg-block-size</th>\n",
       "      <th>n-transactions-excluding-popular</th>\n",
       "      <th>n-unique-addresses</th>\n",
       "      <th>median-confirmation-time</th>\n",
       "      <th>miners-revenue</th>\n",
       "      <th>...</th>\n",
       "      <th>tweets_sent</th>\n",
       "      <th>reddit_crypto_sent</th>\n",
       "      <th>reddit_econ_sent</th>\n",
       "      <th>volume_gross</th>\n",
       "      <th>crypto_pos</th>\n",
       "      <th>crypto_neg</th>\n",
       "      <th>crypto_neu</th>\n",
       "      <th>econ_pos</th>\n",
       "      <th>econ_neg</th>\n",
       "      <th>econ_neu</th>\n",
       "    </tr>\n",
       "  </thead>\n",
       "  <tbody>\n",
       "    <tr>\n",
       "      <th>2021-11-22</th>\n",
       "      <td>2078.240876</td>\n",
       "      <td>2.267415e+13</td>\n",
       "      <td>7.711521e+07</td>\n",
       "      <td>2.409351</td>\n",
       "      <td>4.247603</td>\n",
       "      <td>1.275837</td>\n",
       "      <td>248769.000000</td>\n",
       "      <td>586185.000000</td>\n",
       "      <td>6.758333</td>\n",
       "      <td>4.966713e+07</td>\n",
       "      <td>...</td>\n",
       "      <td>0.235000</td>\n",
       "      <td>0.159344</td>\n",
       "      <td>0.069456</td>\n",
       "      <td>7.805810e+08</td>\n",
       "      <td>0.103129</td>\n",
       "      <td>0.098261</td>\n",
       "      <td>0.798611</td>\n",
       "      <td>0.140787</td>\n",
       "      <td>0.260983</td>\n",
       "      <td>0.598230</td>\n",
       "    </tr>\n",
       "    <tr>\n",
       "      <th>2021-11-21</th>\n",
       "      <td>2078.240876</td>\n",
       "      <td>2.267415e+13</td>\n",
       "      <td>7.711521e+07</td>\n",
       "      <td>2.409351</td>\n",
       "      <td>4.247603</td>\n",
       "      <td>1.275837</td>\n",
       "      <td>248769.000000</td>\n",
       "      <td>586185.000000</td>\n",
       "      <td>6.758333</td>\n",
       "      <td>4.966713e+07</td>\n",
       "      <td>...</td>\n",
       "      <td>-0.022500</td>\n",
       "      <td>0.173188</td>\n",
       "      <td>0.206028</td>\n",
       "      <td>7.894335e+08</td>\n",
       "      <td>0.203692</td>\n",
       "      <td>0.095910</td>\n",
       "      <td>0.700399</td>\n",
       "      <td>0.195318</td>\n",
       "      <td>0.055419</td>\n",
       "      <td>0.749263</td>\n",
       "    </tr>\n",
       "    <tr>\n",
       "      <th>2021-11-20</th>\n",
       "      <td>2078.240876</td>\n",
       "      <td>2.267415e+13</td>\n",
       "      <td>7.701882e+07</td>\n",
       "      <td>2.409351</td>\n",
       "      <td>4.247603</td>\n",
       "      <td>1.275837</td>\n",
       "      <td>248769.000000</td>\n",
       "      <td>632463.333333</td>\n",
       "      <td>6.758333</td>\n",
       "      <td>4.966713e+07</td>\n",
       "      <td>...</td>\n",
       "      <td>0.466667</td>\n",
       "      <td>0.083604</td>\n",
       "      <td>0.014180</td>\n",
       "      <td>8.896024e+08</td>\n",
       "      <td>0.085734</td>\n",
       "      <td>0.178020</td>\n",
       "      <td>0.736247</td>\n",
       "      <td>0.127368</td>\n",
       "      <td>0.070532</td>\n",
       "      <td>0.802100</td>\n",
       "    </tr>\n",
       "    <tr>\n",
       "      <th>2021-11-19</th>\n",
       "      <td>2078.240876</td>\n",
       "      <td>2.267415e+13</td>\n",
       "      <td>7.692242e+07</td>\n",
       "      <td>2.423386</td>\n",
       "      <td>3.531133</td>\n",
       "      <td>1.275837</td>\n",
       "      <td>262180.666667</td>\n",
       "      <td>678741.666667</td>\n",
       "      <td>7.027778</td>\n",
       "      <td>4.966713e+07</td>\n",
       "      <td>...</td>\n",
       "      <td>0.155357</td>\n",
       "      <td>0.058168</td>\n",
       "      <td>0.069516</td>\n",
       "      <td>2.119749e+09</td>\n",
       "      <td>0.085474</td>\n",
       "      <td>0.135326</td>\n",
       "      <td>0.779201</td>\n",
       "      <td>0.125548</td>\n",
       "      <td>0.184152</td>\n",
       "      <td>0.690301</td>\n",
       "    </tr>\n",
       "    <tr>\n",
       "      <th>2021-11-18</th>\n",
       "      <td>2054.611695</td>\n",
       "      <td>2.267415e+13</td>\n",
       "      <td>7.682603e+07</td>\n",
       "      <td>2.437422</td>\n",
       "      <td>2.814664</td>\n",
       "      <td>1.270386</td>\n",
       "      <td>275592.333333</td>\n",
       "      <td>725020.000000</td>\n",
       "      <td>7.297222</td>\n",
       "      <td>5.265043e+07</td>\n",
       "      <td>...</td>\n",
       "      <td>-0.191667</td>\n",
       "      <td>0.129760</td>\n",
       "      <td>0.164820</td>\n",
       "      <td>3.137042e+09</td>\n",
       "      <td>0.145112</td>\n",
       "      <td>0.081628</td>\n",
       "      <td>0.773259</td>\n",
       "      <td>0.130400</td>\n",
       "      <td>0.148810</td>\n",
       "      <td>0.720790</td>\n",
       "    </tr>\n",
       "  </tbody>\n",
       "</table>\n",
       "<p>5 rows × 67 columns</p>\n",
       "</div>"
      ],
      "text/plain": [
       "            n-transactions-per-block    difficulty    utxo-count      mvrv  \\\n",
       "2021-11-22               2078.240876  2.267415e+13  7.711521e+07  2.409351   \n",
       "2021-11-21               2078.240876  2.267415e+13  7.711521e+07  2.409351   \n",
       "2021-11-20               2078.240876  2.267415e+13  7.701882e+07  2.409351   \n",
       "2021-11-19               2078.240876  2.267415e+13  7.692242e+07  2.423386   \n",
       "2021-11-18               2054.611695  2.267415e+13  7.682603e+07  2.437422   \n",
       "\n",
       "                 nvt  avg-block-size  n-transactions-excluding-popular  \\\n",
       "2021-11-22  4.247603        1.275837                     248769.000000   \n",
       "2021-11-21  4.247603        1.275837                     248769.000000   \n",
       "2021-11-20  4.247603        1.275837                     248769.000000   \n",
       "2021-11-19  3.531133        1.275837                     262180.666667   \n",
       "2021-11-18  2.814664        1.270386                     275592.333333   \n",
       "\n",
       "            n-unique-addresses  median-confirmation-time  miners-revenue  ...  \\\n",
       "2021-11-22       586185.000000                  6.758333    4.966713e+07  ...   \n",
       "2021-11-21       586185.000000                  6.758333    4.966713e+07  ...   \n",
       "2021-11-20       632463.333333                  6.758333    4.966713e+07  ...   \n",
       "2021-11-19       678741.666667                  7.027778    4.966713e+07  ...   \n",
       "2021-11-18       725020.000000                  7.297222    5.265043e+07  ...   \n",
       "\n",
       "            tweets_sent  reddit_crypto_sent  reddit_econ_sent  volume_gross  \\\n",
       "2021-11-22     0.235000            0.159344          0.069456  7.805810e+08   \n",
       "2021-11-21    -0.022500            0.173188          0.206028  7.894335e+08   \n",
       "2021-11-20     0.466667            0.083604          0.014180  8.896024e+08   \n",
       "2021-11-19     0.155357            0.058168          0.069516  2.119749e+09   \n",
       "2021-11-18    -0.191667            0.129760          0.164820  3.137042e+09   \n",
       "\n",
       "            crypto_pos  crypto_neg  crypto_neu  econ_pos  econ_neg  econ_neu  \n",
       "2021-11-22    0.103129    0.098261    0.798611  0.140787  0.260983  0.598230  \n",
       "2021-11-21    0.203692    0.095910    0.700399  0.195318  0.055419  0.749263  \n",
       "2021-11-20    0.085734    0.178020    0.736247  0.127368  0.070532  0.802100  \n",
       "2021-11-19    0.085474    0.135326    0.779201  0.125548  0.184152  0.690301  \n",
       "2021-11-18    0.145112    0.081628    0.773259  0.130400  0.148810  0.720790  \n",
       "\n",
       "[5 rows x 67 columns]"
      ]
     },
     "execution_count": 1,
     "metadata": {},
     "output_type": "execute_result"
    }
   ],
   "source": [
    "import gcsfs \n",
    "\n",
    "\n",
    "# make sure key json from google is added to local variable by using \n",
    "# echo 'export GOOGLE_APPLICATION_CREDENTIALS=/home/path/file.json' >> ~/.aliases\n",
    "\n",
    "import pandas as pd\n",
    "\n",
    "# client = storage.Client()\n",
    "df = pd.read_csv(\"gcs://wagon-data-750-btc-sent-fc/input_data/input_data_1.csv\", index_col='Unnamed: 0') # pull data from google storage\n",
    "df = df.sort_index(axis=0, ascending=False) # sort on date index and pull most recet 2 dates\n",
    "df.head()"
   ]
  },
  {
   "cell_type": "code",
   "execution_count": 2,
   "id": "556780d1",
   "metadata": {},
   "outputs": [],
   "source": [
    "sentiment_topics_data = ['tweets_sent','reddit_crypto_sent','reddit_econ_sent'] # make a list with topics from the df (name of feature)\n",
    "sentiment_topics_ui = ['Tweeter Econ Sentiment', 'Reddit Crypto Sentiment', 'Reddit Economy Sentiment']"
   ]
  },
  {
   "cell_type": "code",
   "execution_count": 3,
   "id": "8311db2d",
   "metadata": {},
   "outputs": [
    {
     "data": {
      "text/plain": [
       "[[23.5, -2.25], [15.93, 17.32], [6.95, 20.6]]"
      ]
     },
     "execution_count": 3,
     "metadata": {},
     "output_type": "execute_result"
    }
   ],
   "source": [
    "# get sentiment \n",
    "def get_topics_sentiment(sentiment_topics): #get sentiment \n",
    "    \"\"\" returns a list of lists with with today, yesterday sentiment values, on a scale -100 to 100 for each topic\"\"\"\n",
    "    topics_list = []\n",
    "    for topic in sentiment_topics:\n",
    "        \n",
    "        today_sent = round(df[topic][0]*100, 2)\n",
    "        yesterday_sent = round(df[topic][1]*100, 2)\n",
    "\n",
    "        topics_list. append([today_sent, yesterday_sent])\n",
    "    return topics_list\n",
    "\n",
    "topics_sentiments = get_topics_sentiment(sentiment_topics_data)\n",
    "topics_sentiments"
   ]
  },
  {
   "cell_type": "code",
   "execution_count": 4,
   "id": "63146694",
   "metadata": {},
   "outputs": [
    {
     "data": {
      "text/plain": [
       "-13.65"
      ]
     },
     "execution_count": 4,
     "metadata": {},
     "output_type": "execute_result"
    }
   ],
   "source": [
    "btc_today = topics_sentiments[2][0]\n",
    "btc_diff =  round(abs(topics_sentiments[2][0]) - abs(topics_sentiments[2][1]), 2)\n",
    "btc_diff"
   ]
  },
  {
   "cell_type": "code",
   "execution_count": 6,
   "id": "ccec324d",
   "metadata": {},
   "outputs": [
    {
     "data": {
      "text/plain": [
       "[3, 5]"
      ]
     },
     "execution_count": 6,
     "metadata": {},
     "output_type": "execute_result"
    }
   ],
   "source": [
    "# df[sentiment_topics_data[0]][0:30].to_list()\n",
    "abc = {'a':1, 'b':3, 'c':5}\n",
    "del abc['a']\n",
    "# df[['reddit_crypto_sent']][0:30]\n",
    "list(abc.values())"
   ]
  },
  {
   "cell_type": "code",
   "execution_count": 12,
   "id": "cc036835",
   "metadata": {},
   "outputs": [
    {
     "data": {
      "text/plain": [
       "'67357712.0'"
      ]
     },
     "execution_count": 12,
     "metadata": {},
     "output_type": "execute_result"
    }
   ],
   "source": [
    "import requests\n",
    "\n",
    "response = requests.get(\"https://cloudsentiment-gijujv7fiq-ew.a.run.app/predict/\")\n",
    "response.json()['prediction']\n",
    "\n"
   ]
  }
 ],
 "metadata": {
  "kernelspec": {
   "display_name": "Python 3 (ipykernel)",
   "language": "python",
   "name": "python3"
  },
  "language_info": {
   "codemirror_mode": {
    "name": "ipython",
    "version": 3
   },
   "file_extension": ".py",
   "mimetype": "text/x-python",
   "name": "python",
   "nbconvert_exporter": "python",
   "pygments_lexer": "ipython3",
   "version": "3.8.12"
  },
  "toc": {
   "base_numbering": 1,
   "nav_menu": {},
   "number_sections": true,
   "sideBar": true,
   "skip_h1_title": false,
   "title_cell": "Table of Contents",
   "title_sidebar": "Contents",
   "toc_cell": false,
   "toc_position": {},
   "toc_section_display": true,
   "toc_window_display": false
  }
 },
 "nbformat": 4,
 "nbformat_minor": 5
}
